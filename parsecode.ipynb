{
 "cells": [
  {
   "cell_type": "code",
   "execution_count": 10,
   "id": "7ce86f65",
   "metadata": {},
   "outputs": [],
   "source": [
    "import psycopg2\n",
    "import xml.sax\n",
    "from xml.sax.handler import ContentHandler\n",
    "import pandas as pd"
   ]
  },
  {
   "cell_type": "code",
   "execution_count": 11,
   "id": "efb41f31-03ff-4d49-85e1-703287958b3a",
   "metadata": {},
   "outputs": [],
   "source": [
    "article = []\n",
    "inproceedings = []\n",
    "author = []"
   ]
  },
  {
   "cell_type": "code",
   "execution_count": 12,
   "id": "169700b9-c6cd-45fe-918b-1556ffad64ac",
   "metadata": {},
   "outputs": [],
   "source": [
    "class dbHandler( xml.sax.ContentHandler ):\n",
    "    def __init__(self):\n",
    "        self.Current_Data = \"\"\n",
    "        self.pubkey = \"\"\n",
    "        self.title = \"\"\n",
    "        self.journal = \"\"\n",
    "        self.year = \"\"\n",
    "        self.booktitle = \"\"\n",
    "        self.author_set = set()\n",
    "        self.a = []\n",
    "        \n",
    "    def startElement(self, tag, attributes):\n",
    "        self.Current_Data = tag\n",
    "        if tag == \"article\":\n",
    "            self.pubkey = attributes[\"key\"]\n",
    "            self.title = \"\"\n",
    "            self.journal = \"\"\n",
    "            self.year = \"\"\n",
    "            self.booktitle = \"\"\n",
    "            self.author_set = set()\n",
    "            self.a = []\n",
    "            \n",
    "            \n",
    "        if tag == \"inproceedings\":\n",
    "            self.pubkey = attributes[\"key\"]\n",
    "            self.title = \"\"\n",
    "            self.journal = \"\"\n",
    "            self.year = \"\"\n",
    "            self.booktitle = \"\"\n",
    "            self.author_set = set()\n",
    "            self.a = []\n",
    "        if tag == \"author\":\n",
    "            self.a = []\n",
    "    \n",
    "            \n",
    "            \n",
    "    def endElement(self, tag):\n",
    "        if tag == \"article\":\n",
    "            article.append((self.pubkey, self.title, self.journal, self.year))\n",
    "            for x in self.author_set:\n",
    "                author.append((self.pubkey, x))\n",
    "        if tag == \"inproceedings\":\n",
    "            inproceedings.append((self.pubkey, self.title, self.booktitle, self.year))\n",
    "            for x in self.author_set:\n",
    "                author.append((self.pubkey, x))\n",
    "        if tag == \"author\":\n",
    "            self.author_set.add(''.join(self.a))\n",
    "        self.Current_Data == \"\"\n",
    "            \n",
    "        \n",
    "    def characters(self, content):\n",
    "        if content == '\\n':\n",
    "            return\n",
    "        if self.Current_Data == \"title\":\n",
    "            self.title = content\n",
    "        if self.Current_Data == \"journal\":\n",
    "            self.journal = content\n",
    "        if self.Current_Data == \"year\":\n",
    "            self.year = content\n",
    "        if self.Current_Data == \"booktitle\":\n",
    "            self.booktitle = content\n",
    "        if self.Current_Data == \"author\":\n",
    "            self.a.append(content)\n"
   ]
  },
  {
   "cell_type": "code",
   "execution_count": 13,
   "id": "0e90b6ab",
   "metadata": {},
   "outputs": [],
   "source": [
    "if ( __name__ == \"__main__\"):\n",
    "    parser = xml.sax.make_parser()\n",
    "    parser.setFeature(xml.sax.handler.feature_namespaces, 0)\n",
    "    Handler = dbHandler()\n",
    "    parser.setContentHandler( Handler )\n",
    "    parser.parse(\"dblp-2022-01-01.xml\")"
   ]
  },
  {
   "cell_type": "code",
   "execution_count": 14,
   "id": "78c5277f-f12c-49a3-a9fd-45cef19c2278",
   "metadata": {},
   "outputs": [],
   "source": [
    "for idx, (q, w, e, r) in enumerate(article):\n",
    "    if r == '':\n",
    "        article[idx] = (q, w, e, None)\n",
    "    else:\n",
    "        article[idx] = (q, w, e, int(r))"
   ]
  },
  {
   "cell_type": "code",
   "execution_count": 15,
   "id": "0472072a-7f17-4ed7-b45e-cd7ad1988883",
   "metadata": {},
   "outputs": [],
   "source": [
    "for idx, (q, w, e, r) in enumerate(inproceedings):\n",
    "    if r == '':\n",
    "        inproceedings[idx] = (q, w, e, None)\n",
    "    else:\n",
    "        inproceedings[idx] = (q, w, e, int(r))"
   ]
  },
  {
   "cell_type": "code",
   "execution_count": 21,
   "id": "1b26610e-6d0a-4c36-87d7-68c0464d537b",
   "metadata": {},
   "outputs": [],
   "source": [
    "conn = psycopg2.connect(host=\"127.0.0.1\", database=\"dblp\", user=\"postgres\", password=\"bcbcbc1997126\", port=\"1234\")\n",
    "\n",
    "cur = conn.cursor()\n",
    "            \n",
    "for i in article:\n",
    "    cur.execute(\"INSERT INTO public.\\\"article\\\"(pubkey, title, journal, year) VALUES (%s, %s, %s, %s)\", i)\n",
    "for i in inproceedings:\n",
    "    cur.execute(\"INSERT INTO public.\\\"inproceedings\\\"(pubkey, title, booktitle, year) VALUES (%s, %s, %s, %s)\", i)\n",
    "for i in author:\n",
    "    cur.execute(\"INSERT INTO public.\\\"Authorship\\\"(pubkey, author) VALUES (%s, %s)\", i)\n",
    "\n",
    "\n",
    "conn.commit()\n",
    "conn.close()"
   ]
  },
  {
   "cell_type": "code",
   "execution_count": null,
   "id": "1090fb09-f5ab-4f97-8261-27864e4c23d4",
   "metadata": {},
   "outputs": [],
   "source": []
  }
 ],
 "metadata": {
  "kernelspec": {
   "display_name": "Python 3",
   "language": "python",
   "name": "python3"
  },
  "language_info": {
   "codemirror_mode": {
    "name": "ipython",
    "version": 3
   },
   "file_extension": ".py",
   "mimetype": "text/x-python",
   "name": "python",
   "nbconvert_exporter": "python",
   "pygments_lexer": "ipython3",
   "version": "3.8.8"
  }
 },
 "nbformat": 4,
 "nbformat_minor": 5
}
